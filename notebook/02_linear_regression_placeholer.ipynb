{
 "cells": [
  {
   "cell_type": "markdown",
   "metadata": {},
   "source": [
    "# Linear Regression using placeholer"
   ]
  },
  {
   "cell_type": "code",
   "execution_count": 2,
   "metadata": {},
   "outputs": [],
   "source": [
    "import tensorflow as tf"
   ]
  },
  {
   "cell_type": "markdown",
   "metadata": {},
   "source": [
    "## X and Y data"
   ]
  },
  {
   "cell_type": "code",
   "execution_count": 4,
   "metadata": {},
   "outputs": [],
   "source": [
    "x = tf.placeholder(tf.float32, shape = [None])\n",
    "y = tf.placeholder(tf.float32, shape = [None])"
   ]
  },
  {
   "cell_type": "markdown",
   "metadata": {},
   "source": [
    "## Variables"
   ]
  },
  {
   "cell_type": "code",
   "execution_count": 5,
   "metadata": {},
   "outputs": [],
   "source": [
    "W = tf.Variable(tf.random_normal([1]), name = 'weight')\n",
    "b = tf.Variable(tf.random_normal([1]), name = 'bias')"
   ]
  },
  {
   "cell_type": "markdown",
   "metadata": {},
   "source": [
    "## Model(Hypothesis)"
   ]
  },
  {
   "cell_type": "code",
   "execution_count": 8,
   "metadata": {},
   "outputs": [],
   "source": [
    "hypothesis = W * x + b\n",
    "\n",
    "cost = tf.reduce_mean(tf.square(hypothesis - y))"
   ]
  },
  {
   "cell_type": "markdown",
   "metadata": {},
   "source": [
    "## Minimize"
   ]
  },
  {
   "cell_type": "code",
   "execution_count": 9,
   "metadata": {},
   "outputs": [],
   "source": [
    "optimizer = tf.train.GradientDescentOptimizer(learning_rate = 0.01)\n",
    "train = optimizer.minimize(cost)"
   ]
  },
  {
   "cell_type": "markdown",
   "metadata": {},
   "source": [
    "## Launch the graph in a session"
   ]
  },
  {
   "cell_type": "code",
   "execution_count": 11,
   "metadata": {},
   "outputs": [],
   "source": [
    "session = tf.Session()\n",
    "\n",
    "# Initializes global variables in the graph.\n",
    "session.run(tf.global_variables_initializer())"
   ]
  },
  {
   "cell_type": "markdown",
   "metadata": {},
   "source": [
    "## Fit the line"
   ]
  },
  {
   "cell_type": "code",
   "execution_count": 13,
   "metadata": {},
   "outputs": [
    {
     "name": "stdout",
     "output_type": "stream",
     "text": [
      "0 1.2092069 [1.0426818] [0.02499641]\n",
      "50 0.0951758 [1.3564242] [0.28702742]\n",
      "100 0.07481018 [1.3169037] [0.37959602]\n",
      "150 0.05880763 [1.2809749] [0.4612781]\n",
      "200 0.04622817 [1.2491174] [0.53369784]\n",
      "250 0.03633946 [1.2208717] [0.59790653]\n",
      "300 0.028566146 [1.1958288] [0.6548349]\n",
      "350 0.022455648 [1.1736252] [0.70530856]\n",
      "400 0.017652145 [1.1539392] [0.7500596]\n",
      "450 0.013876227 [1.1364853] [0.78973657]\n",
      "500 0.010907951 [1.1210101] [0.824915]\n",
      "550 0.008574642 [1.1072899] [0.8561049]\n",
      "600 0.006740449 [1.095125] [0.88375837]\n",
      "650 0.005298598 [1.0843395] [0.9082764]\n",
      "700 0.0041651838 [1.0747768] [0.93001443]\n",
      "750 0.0032741937 [1.0662985] [0.94928795]\n",
      "800 0.0025738282 [1.0587814] [0.966376]\n",
      "850 0.0020232552 [1.0521166] [0.9815267]\n",
      "900 0.0015904593 [1.0462074] [0.99495953]\n",
      "950 0.0012502471 [1.0409687] [1.0068692]\n",
      "1000 0.0009828175 [1.0363233] [1.0174283]\n",
      "1050 0.0007725831 [1.032205] [1.0267904]\n",
      "1100 0.00060731935 [1.0285535] [1.035091]\n",
      "1150 0.00047741338 [1.0253162] [1.0424502]\n",
      "1200 0.0003752918 [1.0224459] [1.0489751]\n",
      "1250 0.0002950252 [1.0199014] [1.0547599]\n",
      "1300 0.0002319076 [1.0176445] [1.05989]\n",
      "1350 0.00018229838 [1.0156438] [1.0644379]\n",
      "1400 0.00014330585 [1.0138701] [1.0684699]\n",
      "1450 0.00011265226 [1.0122975] [1.0720447]\n",
      "1500 8.855346e-05 [1.0109032] [1.0752143]\n",
      "1550 6.961234e-05 [1.009667] [1.0780245]\n",
      "1600 5.47216e-05 [1.008571] [1.080516]\n",
      "1650 4.3017568e-05 [1.0075992] [1.0827252]\n",
      "1700 3.3814096e-05 [1.0067376] [1.0846838]\n",
      "1750 2.6580266e-05 [1.0059736] [1.0864205]\n",
      "1800 2.0895124e-05 [1.0052963] [1.0879601]\n",
      "1850 1.6425667e-05 [1.0046959] [1.089325]\n",
      "1900 1.29125765e-05 [1.0041634] [1.0905355]\n",
      "1950 1.014984e-05 [1.0036913] [1.0916088]\n",
      "2000 7.978694e-06 [1.0032728] [1.09256]\n"
     ]
    }
   ],
   "source": [
    "for step in range(2001):\n",
    "    cost_val, W_val, b_val, _ = session.run([cost, W, b, train], feed_dict = {x: [1, 2, 3], y: [2.1, 3.1, 4.1]})\n",
    "    if step % 50 == 0:\n",
    "        print(step, cost_val, W_val, b_val)"
   ]
  },
  {
   "cell_type": "code",
   "execution_count": null,
   "metadata": {},
   "outputs": [],
   "source": []
  }
 ],
 "metadata": {
  "kernelspec": {
   "display_name": "Python 3",
   "language": "python",
   "name": "python3"
  },
  "language_info": {
   "codemirror_mode": {
    "name": "ipython",
    "version": 3
   },
   "file_extension": ".py",
   "mimetype": "text/x-python",
   "name": "python",
   "nbconvert_exporter": "python",
   "pygments_lexer": "ipython3",
   "version": "3.6.4"
  }
 },
 "nbformat": 4,
 "nbformat_minor": 2
}
