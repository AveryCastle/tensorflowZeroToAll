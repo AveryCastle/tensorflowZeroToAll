{
 "cells": [
  {
   "cell_type": "code",
   "execution_count": 1,
   "metadata": {},
   "outputs": [
    {
     "name": "stderr",
     "output_type": "stream",
     "text": [
      "/Users/seongjuhyeon/workspace/tensorflowZeroToAll/venv/lib/python3.6/importlib/_bootstrap.py:219: RuntimeWarning: compiletime version 3.5 of module 'tensorflow.python.framework.fast_tensor_util' does not match runtime version 3.6\n",
      "  return f(*args, **kwds)\n"
     ]
    }
   ],
   "source": [
    "import tensorflow as tf\n",
    "import random"
   ]
  },
  {
   "cell_type": "code",
   "execution_count": 4,
   "metadata": {},
   "outputs": [],
   "source": [
    "from tensorflow.examples.tutorials.mnist import input_data"
   ]
  },
  {
   "cell_type": "code",
   "execution_count": 5,
   "metadata": {},
   "outputs": [
    {
     "name": "stdout",
     "output_type": "stream",
     "text": [
      "Extracting ../MNIST_data/train-images-idx3-ubyte.gz\n",
      "Extracting ../MNIST_data/train-labels-idx1-ubyte.gz\n",
      "Extracting ../MNIST_data/t10k-images-idx3-ubyte.gz\n",
      "Extracting ../MNIST_data/t10k-labels-idx1-ubyte.gz\n",
      "55000\n"
     ]
    }
   ],
   "source": [
    "# To solve downloading files.\n",
    "## https://github.com/tensorflow/tensorflow/issues/10779\n",
    "## run the /Applications/Python 3.6/Install Certificates.command bash script to install newer certs.\n",
    "mnist = input_data.read_data_sets('../MNIST_data/', one_hot=True)\n",
    "print(mnist.train.num_examples)"
   ]
  },
  {
   "cell_type": "code",
   "execution_count": 6,
   "metadata": {},
   "outputs": [],
   "source": [
    "# 0 ~ 9까지의 숫자 갯수(output숫자)\n",
    "nb_classes = 10"
   ]
  },
  {
   "cell_type": "code",
   "execution_count": 9,
   "metadata": {},
   "outputs": [],
   "source": [
    "# MNIST Data image of shape = 28 * 28 = 784\n",
    "X = tf.placeholder(tf.float32, shape=[None, 28*28])\n",
    "X_img = tf.reshape(X, [-1, 28, 28, 1]) # -1: N개, img 28x28x1 (black/white)\n",
    "Y = tf.placeholder(tf.float32, shape=[None, nb_classes])"
   ]
  },
  {
   "cell_type": "code",
   "execution_count": 10,
   "metadata": {},
   "outputs": [],
   "source": [
    "# dropout(keep_prob) rate 0.7~0.5 on training, but should be 1 for testing\n",
    "keep_prob = tf.placeholder(tf.float32)"
   ]
  },
  {
   "cell_type": "markdown",
   "metadata": {},
   "source": [
    "### L1 ImgIn shape=(?, 28, 28, 1)"
   ]
  },
  {
   "cell_type": "code",
   "execution_count": 14,
   "metadata": {},
   "outputs": [
    {
     "name": "stdout",
     "output_type": "stream",
     "text": [
      "Tensor(\"Relu_2:0\", shape=(?, 28, 28, 32), dtype=float32)\n",
      "Tensor(\"MaxPool_2:0\", shape=(?, 14, 14, 32), dtype=float32)\n",
      "Tensor(\"dropout_1/mul:0\", shape=(?, 14, 14, 32), dtype=float32)\n"
     ]
    }
   ],
   "source": [
    "# 3x3x1(color: black/white), 32 of filters\n",
    "W1 = tf.Variable(tf.random_normal([3,3,1,32], stddev=0.01))\n",
    "L1 = tf.nn.conv2d(X_img, W1, strides=[1,1,1,1], padding='SAME')\n",
    "L1 = tf.nn.relu(L1)\n",
    "print(L1)\n",
    "L1 = tf.nn.max_pool(L1, ksize=[1,2,2,1],\n",
    "                   strides=[1,2,2,1], padding='SAME')\n",
    "print(L1)\n",
    "L1 = tf.nn.dropout(L1, keep_prob=keep_prob)\n",
    "print(L1)"
   ]
  },
  {
   "cell_type": "markdown",
   "metadata": {},
   "source": [
    "### L2 ImgIn shape=(?, 14, 14, 32)"
   ]
  },
  {
   "cell_type": "code",
   "execution_count": 17,
   "metadata": {},
   "outputs": [
    {
     "name": "stdout",
     "output_type": "stream",
     "text": [
      "Tensor(\"Relu_5:0\", shape=(?, 14, 14, 64), dtype=float32)\n",
      "Tensor(\"MaxPool_4:0\", shape=(?, 7, 7, 64), dtype=float32)\n",
      "Tensor(\"dropout_3/mul:0\", shape=(?, 7, 7, 64), dtype=float32)\n"
     ]
    }
   ],
   "source": [
    "W2 = tf.Variable(tf.random_normal([3,3,32,64], stddev=0.01))\n",
    "L2 = tf.nn.conv2d(L1, W2, strides=[1,1,1,1], padding='SAME')\n",
    "L2 = tf.nn.relu(L2)\n",
    "print(L2)\n",
    "L2 = tf.nn.max_pool(L2, ksize=[1,2,2,1],\n",
    "                   strides=[1,2,2,1], padding='SAME')\n",
    "print(L2)\n",
    "L2 = tf.nn.dropout(L2, keep_prob=keep_prob)\n",
    "print(L2)"
   ]
  },
  {
   "cell_type": "markdown",
   "metadata": {},
   "source": [
    "### L3 ImgIn shape=(?, 7, 7, 64)"
   ]
  },
  {
   "cell_type": "code",
   "execution_count": 19,
   "metadata": {},
   "outputs": [
    {
     "name": "stdout",
     "output_type": "stream",
     "text": [
      "Tensor(\"Relu_7:0\", shape=(?, 7, 7, 128), dtype=float32)\n",
      "Tensor(\"MaxPool_6:0\", shape=(?, 4, 4, 128), dtype=float32)\n",
      "Tensor(\"dropout_5/mul:0\", shape=(?, 4, 4, 128), dtype=float32)\n"
     ]
    }
   ],
   "source": [
    "W3 = tf.Variable(tf.random_normal([3,3,64,128], stddev=0.01))\n",
    "L3 = tf.nn.conv2d(L2, W3, strides=[1,1,1,1], padding='SAME')\n",
    "L3 = tf.nn.relu(L3)\n",
    "print(L3)\n",
    "L3 = tf.nn.max_pool(L3, ksize=[1,2,2,1],\n",
    "                   strides=[1,2,2,1], padding='SAME')\n",
    "print(L3)\n",
    "L3 = tf.nn.dropout(L3, keep_prob=keep_prob)\n",
    "print(L3)\n",
    "input_cnt = 4*4*128\n",
    "L3_flat = tf.reshape(L3, [-1, input_cnt])"
   ]
  },
  {
   "cell_type": "markdown",
   "metadata": {},
   "source": [
    "### L4 FC(Fully Connected) 4x4x128 inputs -> 625 outputs"
   ]
  },
  {
   "cell_type": "code",
   "execution_count": 20,
   "metadata": {},
   "outputs": [],
   "source": [
    "W4 = tf.get_variable(\"W4\", shape=[input_cnt, 625],\n",
    "                    initializer=tf.contrib.layers.xavier_initializer())\n",
    "b4 = tf.Variable(tf.random_normal([625]))\n",
    "L4 = tf.nn.relu(tf.matmul(L3_flat, W4) + b4)\n",
    "L4 = tf.nn.dropout(L4, keep_prob=keep_prob)"
   ]
  },
  {
   "cell_type": "markdown",
   "metadata": {},
   "source": [
    "### L5 Final FC 625 inputs -> 10 outputs"
   ]
  },
  {
   "cell_type": "code",
   "execution_count": 21,
   "metadata": {},
   "outputs": [],
   "source": [
    "# 10: 0~9 of numbers\n",
    "W5 = tf.get_variable(\"W5\", shape=[625, 10]\n",
    "                    , initializer=tf.contrib.layers.xavier_initializer())\n",
    "b5 = tf.Variable(tf.random_normal([10]))\n",
    "logits = tf.matmul(L4, W5) + b5"
   ]
  },
  {
   "cell_type": "markdown",
   "metadata": {},
   "source": [
    "### define cost/loss & optimizer"
   ]
  },
  {
   "cell_type": "code",
   "execution_count": 34,
   "metadata": {},
   "outputs": [],
   "source": [
    "cost = tf.reduce_mean(tf.nn.softmax_cross_entropy_with_logits_v2(logits=logits, labels=Y))\n",
    "# Minimize cost\n",
    "# learning_rate = 0.01로 하면 0.96~0.94 정도로 오히려 떨어짐...\n",
    "optimizer = tf.train.AdamOptimizer(learning_rate=0.001)\n",
    "train = optimizer.minimize(cost)"
   ]
  },
  {
   "cell_type": "code",
   "execution_count": 35,
   "metadata": {},
   "outputs": [],
   "source": [
    "# Correct Prediction\n",
    "prediction = tf.argmax(logits, 1)\n",
    "real = tf.argmax(Y, 1)\n",
    "accuracy = tf.reduce_mean(tf.cast(tf.equal(prediction, real), dtype=tf.float32))"
   ]
  },
  {
   "cell_type": "code",
   "execution_count": 36,
   "metadata": {},
   "outputs": [],
   "source": [
    "# Prepare session\n",
    "session = tf.Session()\n",
    "session.run(tf.global_variables_initializer())"
   ]
  },
  {
   "cell_type": "code",
   "execution_count": 37,
   "metadata": {},
   "outputs": [
    {
     "name": "stdout",
     "output_type": "stream",
     "text": [
      "55000\n",
      "550\n"
     ]
    }
   ],
   "source": [
    "# Slice the data, epochs, batch_size\n",
    "training_epochs = 15\n",
    "batch_size = 100\n",
    "total_iterator = int(mnist.train.num_examples / batch_size)\n",
    "\n",
    "print(mnist.train.num_examples)\n",
    "print(total_iterator)"
   ]
  },
  {
   "cell_type": "code",
   "execution_count": 38,
   "metadata": {},
   "outputs": [
    {
     "name": "stdout",
     "output_type": "stream",
     "text": [
      "Epoch: 0001 , Cost: 0.00292\n",
      "Epoch: 0002 , Cost: 0.00119\n",
      "Epoch: 0003 , Cost: 0.00130\n",
      "Epoch: 0004 , Cost: 0.00123\n",
      "Epoch: 0005 , Cost: 0.00288\n",
      "Epoch: 0006 , Cost: 0.00049\n",
      "Epoch: 0007 , Cost: 0.00063\n",
      "Epoch: 0008 , Cost: 0.00016\n",
      "Epoch: 0009 , Cost: 0.00051\n",
      "Epoch: 0010 , Cost: 0.00042\n",
      "Epoch: 0011 , Cost: 0.00008\n",
      "Epoch: 0012 , Cost: 0.00043\n",
      "Epoch: 0013 , Cost: 0.00100\n",
      "Epoch: 0014 , Cost: 0.00079\n",
      "Epoch: 0015 , Cost: 0.00004\n",
      "Learning Finished!\n",
      "Accuracy: 0.9934\n"
     ]
    }
   ],
   "source": [
    "# Fit the train\n",
    "for epoch in range(training_epochs):\n",
    "    avg_cost = 0\n",
    "    total_iterator = total_iterator\n",
    "    \n",
    "    for i in range(total_iterator):\n",
    "        batch_xs, batch_ys = mnist.train.next_batch(batch_size)\n",
    "        feed_dict = {X: batch_xs, Y: batch_ys, keep_prob: 0.5}\n",
    "        c_val, _ = session.run([cost, train], feed_dict=feed_dict)\n",
    "        avg_cost = c_val / batch_size\n",
    "    \n",
    "    print(\"Epoch:\", \"%04d\" % (epoch+1), \", Cost:\", \"{:.5f}\".format(avg_cost))\n",
    "\n",
    "print('Learning Finished!')\n",
    "print(\"Accuracy:\", session.run(accuracy,\n",
    "                               feed_dict={X: mnist.test.images, Y: mnist.test.labels, keep_prob: 1}))"
   ]
  },
  {
   "cell_type": "code",
   "execution_count": 39,
   "metadata": {},
   "outputs": [
    {
     "name": "stdout",
     "output_type": "stream",
     "text": [
      "Label:  [6]\n",
      "Prediction:  [6]\n"
     ]
    }
   ],
   "source": [
    "# Get one and predict\n",
    "r = random.randint(0, mnist.test.num_examples - 1)\n",
    "print(\"Label: \", session.run(tf.argmax(mnist.test.labels[r:r + 1], 1)))\n",
    "print(\"Prediction: \", session.run(tf.argmax(logits, 1),\n",
    "                                  feed_dict={X: mnist.test.images[r:r + 1], keep_prob: 1.0}))"
   ]
  },
  {
   "cell_type": "code",
   "execution_count": null,
   "metadata": {},
   "outputs": [],
   "source": []
  }
 ],
 "metadata": {
  "kernelspec": {
   "display_name": "Python 3",
   "language": "python",
   "name": "python3"
  },
  "language_info": {
   "codemirror_mode": {
    "name": "ipython",
    "version": 3
   },
   "file_extension": ".py",
   "mimetype": "text/x-python",
   "name": "python",
   "nbconvert_exporter": "python",
   "pygments_lexer": "ipython3",
   "version": "3.6.4"
  }
 },
 "nbformat": 4,
 "nbformat_minor": 2
}
