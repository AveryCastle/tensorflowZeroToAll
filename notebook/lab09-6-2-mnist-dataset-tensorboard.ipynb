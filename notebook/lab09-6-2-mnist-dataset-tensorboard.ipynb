{
 "cells": [
  {
   "cell_type": "code",
   "execution_count": 1,
   "metadata": {},
   "outputs": [
    {
     "name": "stderr",
     "output_type": "stream",
     "text": [
      "/Users/seongjuhyeon/workspace/tensorflowZeroToAll/venv/lib/python3.6/importlib/_bootstrap.py:219: RuntimeWarning: compiletime version 3.5 of module 'tensorflow.python.framework.fast_tensor_util' does not match runtime version 3.6\n",
      "  return f(*args, **kwds)\n"
     ]
    }
   ],
   "source": [
    "import tensorflow as tf\n",
    "import matplotlib.pyplot as plt\n",
    "import random"
   ]
  },
  {
   "cell_type": "code",
   "execution_count": 2,
   "metadata": {},
   "outputs": [],
   "source": [
    "tf.set_random_seed(777)"
   ]
  },
  {
   "cell_type": "code",
   "execution_count": 3,
   "metadata": {},
   "outputs": [],
   "source": [
    "#import train set\n",
    "from tensorflow.examples.tutorials.mnist import input_data"
   ]
  },
  {
   "cell_type": "code",
   "execution_count": 4,
   "metadata": {},
   "outputs": [
    {
     "name": "stdout",
     "output_type": "stream",
     "text": [
      "Extracting ../MNIST_data/train-images-idx3-ubyte.gz\n",
      "Extracting ../MNIST_data/train-labels-idx1-ubyte.gz\n",
      "Extracting ../MNIST_data/t10k-images-idx3-ubyte.gz\n",
      "Extracting ../MNIST_data/t10k-labels-idx1-ubyte.gz\n",
      "55000\n"
     ]
    }
   ],
   "source": [
    "# To solve downloading files.\n",
    "## https://github.com/tensorflow/tensorflow/issues/10779\n",
    "## run the /Applications/Python 3.6/Install Certificates.command bash script to install newer certs.\n",
    "mnist = input_data.read_data_sets(\"../MNIST_data/\", one_hot=True)\n",
    "print(mnist.train.num_examples)"
   ]
  },
  {
   "cell_type": "code",
   "execution_count": 5,
   "metadata": {},
   "outputs": [],
   "source": [
    "# 0 ~ 9까지의 숫자 갯수\n",
    "nb_classes = 10"
   ]
  },
  {
   "cell_type": "code",
   "execution_count": 6,
   "metadata": {},
   "outputs": [],
   "source": [
    "# MNIST Data image of shape = 28 * 28 = 784\n",
    "X = tf.placeholder(tf.float32, shape=[None, 784])\n",
    "Y = tf.placeholder(tf.float32, shape=[None, nb_classes]) # one-hot으로 주어짐."
   ]
  },
  {
   "cell_type": "code",
   "execution_count": 7,
   "metadata": {},
   "outputs": [],
   "source": [
    "with tf.name_scope(\"layer\") as scope:\n",
    "    # Variable\n",
    "    W = tf.Variable(tf.random_normal([784, nb_classes]), name='weight')\n",
    "    b = tf.Variable(tf.random_normal([nb_classes]), name='bias')\n",
    "\n",
    "    W_hist = tf.summary.histogram(\"weights\", W)\n",
    "    b_hist = tf.summary.histogram(\"biases\", b)\n",
    "    \n",
    "    # hypothesis\n",
    "    logits = tf.matmul(X, W) + b\n",
    "    hypothesis = tf.nn.softmax(logits)\n",
    "\n",
    "    hypothesis_hist = tf.summary.histogram(\"hypothesises\", hypothesis)"
   ]
  },
  {
   "cell_type": "code",
   "execution_count": 8,
   "metadata": {},
   "outputs": [],
   "source": [
    "# Cost\n",
    "with tf.name_scope(\"cost\") as scope:\n",
    "    cost = tf.reduce_mean(-tf.reduce_sum(Y * tf.log(hypothesis), axis=1))\n",
    "    \n",
    "    # scalar = 1개의 값이 나와야 할 때 사용\n",
    "    cost_summary = tf.summary.scalar(\"cost\", cost)"
   ]
  },
  {
   "cell_type": "code",
   "execution_count": 15,
   "metadata": {},
   "outputs": [],
   "source": [
    "# minimize cost\n",
    "with tf.name_scope(\"train\") as scope:\n",
    "    train = tf.train.GradientDescentOptimizer(learning_rate=1).minimize(cost)"
   ]
  },
  {
   "cell_type": "code",
   "execution_count": 16,
   "metadata": {},
   "outputs": [],
   "source": [
    "# Accuracy computation\n",
    "# True if hypothesis>0.5 else False\n",
    "predicted = tf.cast(hypothesis > 0.5, dtype=tf.float32)\n",
    "accuracy = tf.reduce_mean(tf.cast(tf.equal(predicted, Y), dtype=tf.float32))\n",
    "\n",
    "accuracy_summary = tf.summary.scalar(\"accuracy\", accuracy)"
   ]
  },
  {
   "cell_type": "code",
   "execution_count": 17,
   "metadata": {},
   "outputs": [
    {
     "name": "stdout",
     "output_type": "stream",
     "text": [
      "55000\n",
      "550\n"
     ]
    }
   ],
   "source": [
    "# Slice the data, epochs, batch_size\n",
    "training_epochs = 15\n",
    "batch_size = 100\n",
    "total_iterator = int(mnist.train.num_examples / batch_size)\n",
    "print(mnist.train.num_examples)\n",
    "print(total_iterator)"
   ]
  },
  {
   "cell_type": "code",
   "execution_count": 18,
   "metadata": {},
   "outputs": [],
   "source": [
    "# Prepare session\n",
    "session = tf.Session()\n",
    "session.run(tf.global_variables_initializer())"
   ]
  },
  {
   "cell_type": "code",
   "execution_count": 19,
   "metadata": {},
   "outputs": [],
   "source": [
    "# tensorboard --logdir=./logs/xor_logs\n",
    "# http://localhost:6006/\n",
    "merged_summary = tf.summary.merge_all()\n",
    "writer = tf.summary.FileWriter(\"../logs/lab09/6-2-mnist-with-learning-rate-1\")\n",
    "writer.add_graph(session.graph)  # Show the graph"
   ]
  },
  {
   "cell_type": "code",
   "execution_count": 20,
   "metadata": {},
   "outputs": [
    {
     "name": "stdout",
     "output_type": "stream",
     "text": [
      "Epoch: 0001 , Cost: 5.46909\n",
      "Epoch: 0002 , Cost: 2.83044\n",
      "Epoch: 0003 , Cost: 2.44061\n",
      "Epoch: 0004 , Cost: 2.22986\n",
      "Epoch: 0005 , Cost: 2.07688\n",
      "Epoch: 0006 , Cost: 1.98848\n",
      "Epoch: 0007 , Cost: 1.91906\n",
      "Epoch: 0008 , Cost: 1.85894\n",
      "Epoch: 0009 , Cost: 1.81576\n",
      "Epoch: 0010 , Cost: 1.78054\n",
      "Epoch: 0011 , Cost: 1.74346\n",
      "Epoch: 0012 , Cost: 1.70859\n",
      "Epoch: 0013 , Cost: 1.68942\n",
      "Epoch: 0014 , Cost: 1.66712\n",
      "Epoch: 0015 , Cost: 1.65965\n",
      "Accuracy: 0.98317\n"
     ]
    }
   ],
   "source": [
    "# Fit the train\n",
    "for epoch in range(training_epochs):\n",
    "    avg_cost = 0\n",
    "    \n",
    "    total_iterator = int(mnist.train.num_examples / batch_size)\n",
    "    for step in range(total_iterator):\n",
    "        batch_x_train, batch_y_train = mnist.train.next_batch(batch_size)\n",
    "        summary, cost_val, _ = session.run([merged_summary, cost, train],\n",
    "                                           feed_dict={X: batch_x_train, Y: batch_y_train})\n",
    "\n",
    "        writer.add_summary(summary, global_step=step)\n",
    "        \n",
    "        avg_cost += cost_val / batch_size\n",
    "    \n",
    "    print(\"Epoch:\", \"%04d\" % (epoch + 1), \", Cost:\", \"{:.5f}\".format(avg_cost))\n",
    "    \n",
    "print(\"Accuracy:\", session.run(accuracy,\n",
    "                               feed_dict={X: mnist.test.images, Y: mnist.test.labels}))"
   ]
  },
  {
   "cell_type": "code",
   "execution_count": 27,
   "metadata": {},
   "outputs": [
    {
     "name": "stdout",
     "output_type": "stream",
     "text": [
      "8596\n",
      "Label:  [9]\n",
      "Prediction:  [9]\n"
     ]
    },
    {
     "data": {
      "image/png": "[encoded data removed]",
      "text/plain": [
       "<matplotlib.figure.Figure at 0x12bb30ef0>"
      ]
     },
     "metadata": {},
     "output_type": "display_data"
    }
   ],
   "source": [
    "# Get one and predict\n",
    "r = random.randint(0, mnist.test.num_examples - 1)\n",
    "print(r)\n",
    "print(\"Label: \", session.run(tf.argmax(mnist.test.labels[r:r + 1], 1)))\n",
    "\n",
    "sample_image = mnist.test.images[r: r+1]\n",
    "print(\"Prediction: \", session.run(tf.argmax(hypothesis, 1),\n",
    "                                  feed_dict={X: sample_image}))\n",
    "\n",
    "plt.imshow(\n",
    "    sample_image.reshape(28, 28),\n",
    "    cmap='Greens',\n",
    "    interpolation='nearest')\n",
    "plt.show()"
   ]
  },
  {
   "cell_type": "code",
   "execution_count": null,
   "metadata": {},
   "outputs": [],
   "source": []
  },
  {
   "cell_type": "code",
   "execution_count": null,
   "metadata": {},
   "outputs": [],
   "source": []
  }
 ],
 "metadata": {
  "kernelspec": {
   "display_name": "Python 3",
   "language": "python",
   "name": "python3"
  },
  "language_info": {
   "codemirror_mode": {
    "name": "ipython",
    "version": 3
   },
   "file_extension": ".py",
   "mimetype": "text/x-python",
   "name": "python",
   "nbconvert_exporter": "python",
   "pygments_lexer": "ipython3",
   "version": "3.6.4"
  }
 },
 "nbformat": 4,
 "nbformat_minor": 2
}
