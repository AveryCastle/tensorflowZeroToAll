{
 "cells": [
  {
   "cell_type": "code",
   "execution_count": 1,
   "metadata": {},
   "outputs": [
    {
     "name": "stderr",
     "output_type": "stream",
     "text": [
      "/Users/seongjuhyeon/workspace/tensorflowZeroToAll/venv/lib/python3.6/importlib/_bootstrap.py:219: RuntimeWarning: compiletime version 3.5 of module 'tensorflow.python.framework.fast_tensor_util' does not match runtime version 3.6\n",
      "  return f(*args, **kwds)\n"
     ]
    }
   ],
   "source": [
    "import tensorflow as tf\n",
    "import matplotlib.pyplot as plt\n",
    "import random"
   ]
  },
  {
   "cell_type": "code",
   "execution_count": 2,
   "metadata": {},
   "outputs": [],
   "source": [
    "#import train set\n",
    "from tensorflow.examples.tutorials.mnist import input_data"
   ]
  },
  {
   "cell_type": "code",
   "execution_count": 3,
   "metadata": {},
   "outputs": [
    {
     "name": "stdout",
     "output_type": "stream",
     "text": [
      "Extracting ../MNIST_data/train-images-idx3-ubyte.gz\n",
      "Extracting ../MNIST_data/train-labels-idx1-ubyte.gz\n",
      "Extracting ../MNIST_data/t10k-images-idx3-ubyte.gz\n",
      "Extracting ../MNIST_data/t10k-labels-idx1-ubyte.gz\n",
      "55000\n"
     ]
    }
   ],
   "source": [
    "# To solve downloading files.\n",
    "## https://github.com/tensorflow/tensorflow/issues/10779\n",
    "## run the /Applications/Python 3.6/Install Certificates.command bash script to install newer certs.\n",
    "mnist = input_data.read_data_sets(\"../MNIST_data/\", one_hot=True)\n",
    "print(mnist.train.num_examples)"
   ]
  },
  {
   "cell_type": "code",
   "execution_count": 4,
   "metadata": {},
   "outputs": [],
   "source": [
    "# 0 ~ 9까지의 숫자 갯수\n",
    "nb_classes = 10"
   ]
  },
  {
   "cell_type": "code",
   "execution_count": 5,
   "metadata": {},
   "outputs": [],
   "source": [
    "# MNIST Data image of shape = 28 * 28 = 784\n",
    "X = tf.placeholder(tf.float32, shape=[None, 784])\n",
    "Y = tf.placeholder(tf.float32, shape=[None, nb_classes]) # one-hot으로 주어짐."
   ]
  },
  {
   "cell_type": "code",
   "execution_count": 6,
   "metadata": {},
   "outputs": [],
   "source": [
    "W = tf.Variable(tf.random_normal([784, nb_classes]), name='weight')\n",
    "b = tf.Variable(tf.random_normal([nb_classes]), name='bias')"
   ]
  },
  {
   "cell_type": "code",
   "execution_count": 7,
   "metadata": {},
   "outputs": [],
   "source": [
    "# hypothesis\n",
    "logits = tf.matmul(X, W) + b\n",
    "hypothesis = tf.nn.softmax(logits)"
   ]
  },
  {
   "cell_type": "code",
   "execution_count": 8,
   "metadata": {},
   "outputs": [],
   "source": [
    "# Cost\n",
    "cost = tf.reduce_mean(-tf.reduce_sum(Y * tf.log(hypothesis), axis=1))"
   ]
  },
  {
   "cell_type": "code",
   "execution_count": 9,
   "metadata": {},
   "outputs": [],
   "source": [
    "# Minimize Cost\n",
    "optimizer = tf.train.GradientDescentOptimizer(learning_rate = 0.110101)\n",
    "train = optimizer.minimize(cost)"
   ]
  },
  {
   "cell_type": "code",
   "execution_count": 10,
   "metadata": {},
   "outputs": [],
   "source": [
    "# Correct prediction Test model\n",
    "prediction = tf.argmax(hypothesis, 1)\n",
    "real = tf.argmax(Y, 1)\n",
    "accuracy = tf.reduce_mean(tf.cast(tf.equal(prediction, real), dtype=tf.float32))"
   ]
  },
  {
   "cell_type": "code",
   "execution_count": 11,
   "metadata": {},
   "outputs": [],
   "source": [
    "# Prepare session\n",
    "session = tf.Session()\n",
    "session.run(tf.global_variables_initializer())"
   ]
  },
  {
   "cell_type": "code",
   "execution_count": 12,
   "metadata": {},
   "outputs": [
    {
     "name": "stdout",
     "output_type": "stream",
     "text": [
      "55000\n",
      "550\n"
     ]
    }
   ],
   "source": [
    "# Slice the data, epochs, batch_size\n",
    "training_epochs = 15\n",
    "batch_size = 100\n",
    "total_iterator = int(mnist.train.num_examples / batch_size)\n",
    "print(mnist.train.num_examples)\n",
    "print(total_iterator)"
   ]
  },
  {
   "cell_type": "code",
   "execution_count": 13,
   "metadata": {},
   "outputs": [
    {
     "name": "stdout",
     "output_type": "stream",
     "text": [
      "Epoch: 0001 , Cost: 14.39347\n",
      "Epoch: 0002 , Cost: 5.85516\n",
      "Epoch: 0003 , Cost: 4.69660\n",
      "Epoch: 0004 , Cost: 4.11987\n",
      "Epoch: 0005 , Cost: 3.74679\n",
      "Epoch: 0006 , Cost: 3.48322\n",
      "Epoch: 0007 , Cost: 3.27790\n",
      "Epoch: 0008 , Cost: 3.11961\n",
      "Epoch: 0009 , Cost: 2.98606\n",
      "Epoch: 0010 , Cost: 2.87720\n",
      "Epoch: 0011 , Cost: 2.78346\n",
      "Epoch: 0012 , Cost: 2.70245\n",
      "Epoch: 0013 , Cost: 2.63103\n",
      "Epoch: 0014 , Cost: 2.56768\n",
      "Epoch: 0015 , Cost: 2.51130\n",
      "Accuracy: 0.8917\n"
     ]
    }
   ],
   "source": [
    "# Fit the train\n",
    "for epoch in range(training_epochs):\n",
    "    avg_cost = 0\n",
    "    total_iterator = int(mnist.train.num_examples / batch_size)\n",
    "    for i in range(total_iterator):\n",
    "        batch_x_train, batch_y_train = mnist.train.next_batch(batch_size)\n",
    "        c_val, _ = session.run([cost, train],\n",
    "                                   feed_dict={X: batch_x_train, Y: batch_y_train})\n",
    "        avg_cost += c_val / batch_size\n",
    "    print(\"Epoch:\", \"%04d\" % (epoch + 1), \", Cost:\", \"{:.5f}\".format(avg_cost))\n",
    "    \n",
    "\n",
    "print(\"Accuracy:\", session.run(accuracy,\n",
    "                               feed_dict={X: mnist.test.images, Y: mnist.test.labels}))"
   ]
  },
  {
   "cell_type": "code",
   "execution_count": 14,
   "metadata": {},
   "outputs": [],
   "source": [
    "# learing_rage = 0.01 -> accuracy: 0.7996\n",
    "# learing_rage = 0.1 -> accuracy: 0.8888\n",
    "# learing_rage = 0.11 -> accuracy: 0.8938\n",
    "# learing_rage = 0.111 -> accuracy: nan 0.098\n",
    "# learing_rage = 0.1101 -> accuracy: 0.8942\n",
    "# learing_rage = 0.110101 -> accuracy: 0.8976\n",
    "# learing_rage = 0.11010105 -> accuracy: 0.8888    \n",
    "# learing_rage = 0.1101011 -> accuracy: nan 0.8903\n",
    "# learing_rage = 0.110102 -> accuracy: nan 0.889\n",
    "# learing_rage = 0.1102 -> accuracy: nan 0.8891    \n",
    "# learing_rage = 0.12 -> accuracy: 0.8929\n",
    "# learing_rage = 0.2 -> accuracy: nan 0.098\n",
    "# learing_rage = 1 -> accuracy: nan 0.098"
   ]
  },
  {
   "cell_type": "code",
   "execution_count": null,
   "metadata": {},
   "outputs": [],
   "source": [
    "# Get one and predict\n",
    "r = random.randint(0, mnist.test.num_examples - 1)\n",
    "print(r)\n",
    "print(\"Label: \", session.run(tf.argmax(mnist.test.labels[r:r + 1], 1)))\n",
    "\n",
    "sample_image = mnist.test.images[r: r+1]\n",
    "print(\"Prediction: \", session.run(tf.argmax(hypothesis, 1),\n",
    "                                  feed_dict={X: sample_image}))\n",
    "\n",
    "plt.imshow(\n",
    "    sample_image.reshape(28, 28),\n",
    "    cmap='Greens',\n",
    "    interpolation='nearest')\n",
    "plt.show()"
   ]
  },
  {
   "cell_type": "code",
   "execution_count": null,
   "metadata": {},
   "outputs": [],
   "source": []
  },
  {
   "cell_type": "code",
   "execution_count": null,
   "metadata": {},
   "outputs": [],
   "source": []
  }
 ],
 "metadata": {
  "kernelspec": {
   "display_name": "Python 3",
   "language": "python",
   "name": "python3"
  },
  "language_info": {
   "codemirror_mode": {
    "name": "ipython",
    "version": 3
   },
   "file_extension": ".py",
   "mimetype": "text/x-python",
   "name": "python",
   "nbconvert_exporter": "python",
   "pygments_lexer": "ipython3",
   "version": "3.6.4"
  }
 },
 "nbformat": 4,
 "nbformat_minor": 2
}
