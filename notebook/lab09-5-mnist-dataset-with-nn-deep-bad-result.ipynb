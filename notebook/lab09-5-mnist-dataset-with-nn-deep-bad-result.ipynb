{
 "cells": [
  {
   "cell_type": "code",
   "execution_count": 2,
   "metadata": {},
   "outputs": [
    {
     "name": "stderr",
     "output_type": "stream",
     "text": [
      "/Users/seongjuhyeon/workspace/tensorflowZeroToAll/venv/lib/python3.6/importlib/_bootstrap.py:219: RuntimeWarning: compiletime version 3.5 of module 'tensorflow.python.framework.fast_tensor_util' does not match runtime version 3.6\n",
      "  return f(*args, **kwds)\n"
     ]
    }
   ],
   "source": [
    "import tensorflow as tf\n",
    "import matplotlib.pyplot as plt\n",
    "import random"
   ]
  },
  {
   "cell_type": "code",
   "execution_count": 3,
   "metadata": {},
   "outputs": [],
   "source": [
    "tf.set_random_seed(777)"
   ]
  },
  {
   "cell_type": "code",
   "execution_count": 4,
   "metadata": {},
   "outputs": [],
   "source": [
    "#import train set\n",
    "from tensorflow.examples.tutorials.mnist import input_data"
   ]
  },
  {
   "cell_type": "code",
   "execution_count": 5,
   "metadata": {},
   "outputs": [
    {
     "name": "stdout",
     "output_type": "stream",
     "text": [
      "Extracting ../MNIST_data/train-images-idx3-ubyte.gz\n",
      "Extracting ../MNIST_data/train-labels-idx1-ubyte.gz\n",
      "Extracting ../MNIST_data/t10k-images-idx3-ubyte.gz\n",
      "Extracting ../MNIST_data/t10k-labels-idx1-ubyte.gz\n",
      "55000\n"
     ]
    }
   ],
   "source": [
    "mnist = input_data.read_data_sets(\"../MNIST_data/\", one_hot=True)\n",
    "print(mnist.train.num_examples)"
   ]
  },
  {
   "cell_type": "code",
   "execution_count": 6,
   "metadata": {},
   "outputs": [],
   "source": [
    "# 0 ~ 9까지의 숫자 갯수\n",
    "nb_classes = 10"
   ]
  },
  {
   "cell_type": "code",
   "execution_count": 7,
   "metadata": {},
   "outputs": [],
   "source": [
    "# MNIST Data image of shape = 28 * 28 = 784\n",
    "X = tf.placeholder(tf.float32, shape=[None, 784])\n",
    "Y = tf.placeholder(tf.float32, shape=[None, nb_classes]) # one-hot으로 주어짐."
   ]
  },
  {
   "cell_type": "code",
   "execution_count": 8,
   "metadata": {},
   "outputs": [],
   "source": [
    "# Variable\n",
    "W1 = tf.Variable(tf.random_normal([784, 392]), dtype=tf.float32, name=\"weight1\")\n",
    "b1 = tf.Variable(tf.random_normal([392]), dtype=tf.float32, name=\"bias1\")\n",
    "\n",
    "logits1 = tf.matmul(X, W1) + b1\n",
    "layer1 = tf.nn.softmax(logits1)"
   ]
  },
  {
   "cell_type": "code",
   "execution_count": 9,
   "metadata": {},
   "outputs": [],
   "source": [
    "W2 = tf.Variable(tf.random_normal([392, 392]), name=\"weight2\")\n",
    "b2 = tf.Variable(tf.random_normal([392]), name=\"bias2\")\n",
    "\n",
    "logits2 = tf.matmul(layer1, W2) + b2\n",
    "layer2 = tf.nn.sigmoid(logits2)"
   ]
  },
  {
   "cell_type": "code",
   "execution_count": 10,
   "metadata": {},
   "outputs": [],
   "source": [
    "W3 = tf.Variable(tf.random_normal([392, 392]), name=\"weight3\")\n",
    "b3 = tf.Variable(tf.random_normal([392]), name=\"bias3\")\n",
    "\n",
    "logits3 = tf.matmul(layer2, W3) + b3\n",
    "layer3 = tf.nn.softmax(logits3)"
   ]
  },
  {
   "cell_type": "code",
   "execution_count": 11,
   "metadata": {},
   "outputs": [],
   "source": [
    "W4 = tf.Variable(tf.random_normal([392, nb_classes]), name=\"weight4\")\n",
    "b4 = tf.Variable(tf.random_normal([nb_classes]), name=\"bias4\")\n",
    "\n",
    "logits4 = tf.matmul(layer3, W4) + b4\n",
    "hypothesis = tf.nn.softmax(logits4)"
   ]
  },
  {
   "cell_type": "code",
   "execution_count": 12,
   "metadata": {},
   "outputs": [],
   "source": [
    "# cost\n",
    "cost = tf.reduce_mean(-tf.reduce_sum(Y * tf.log(hypothesis), axis=1))"
   ]
  },
  {
   "cell_type": "code",
   "execution_count": 13,
   "metadata": {},
   "outputs": [],
   "source": [
    "# Minimize Cost\n",
    "optimizer = tf.train.GradientDescentOptimizer(learning_rate = 0.1)\n",
    "train = optimizer.minimize(cost)"
   ]
  },
  {
   "cell_type": "code",
   "execution_count": 14,
   "metadata": {},
   "outputs": [],
   "source": [
    "# Correct prediction Test model\n",
    "prediction = tf.argmax(hypothesis, 1)\n",
    "real = tf.argmax(Y, 1)\n",
    "accuracy = tf.reduce_mean(tf.cast(tf.equal(prediction, real), dtype=tf.float32))"
   ]
  },
  {
   "cell_type": "code",
   "execution_count": 15,
   "metadata": {},
   "outputs": [],
   "source": [
    "# Prepare session\n",
    "session = tf.Session()\n",
    "session.run(tf.global_variables_initializer())"
   ]
  },
  {
   "cell_type": "code",
   "execution_count": 16,
   "metadata": {},
   "outputs": [
    {
     "name": "stdout",
     "output_type": "stream",
     "text": [
      "55000\n",
      "550\n"
     ]
    }
   ],
   "source": [
    "# Slice the data, epochs, batch_size\n",
    "training_epochs = 15\n",
    "batch_size = 100\n",
    "total_iterator = int(mnist.train.num_examples / batch_size)\n",
    "print(mnist.train.num_examples)\n",
    "print(total_iterator)"
   ]
  },
  {
   "cell_type": "code",
   "execution_count": 17,
   "metadata": {},
   "outputs": [
    {
     "name": "stdout",
     "output_type": "stream",
     "text": [
      "Epoch: 0001 , Cost: 12.82725\n",
      "Epoch: 0002 , Cost: 12.65939\n",
      "Epoch: 0003 , Cost: 12.65856\n",
      "Epoch: 0004 , Cost: 12.65767\n",
      "Epoch: 0005 , Cost: 12.65712\n",
      "Epoch: 0006 , Cost: 12.65648\n",
      "Epoch: 0007 , Cost: 12.65609\n",
      "Epoch: 0008 , Cost: 12.65565\n",
      "Epoch: 0009 , Cost: 12.65477\n",
      "Epoch: 0010 , Cost: 12.65402\n",
      "Epoch: 0011 , Cost: 12.65324\n",
      "Epoch: 0012 , Cost: 12.65259\n",
      "Epoch: 0013 , Cost: 12.65191\n",
      "Epoch: 0014 , Cost: 12.65099\n",
      "Epoch: 0015 , Cost: 12.65001\n",
      "Accuracy: 0.1135\n"
     ]
    }
   ],
   "source": [
    "# Deep and wide를 했으나 결과거 더 안 좋다!!\n",
    "# Fit the train\n",
    "for epoch in range(training_epochs):\n",
    "    avg_cost = 0\n",
    "    total_iterator = int(mnist.train.num_examples / batch_size)\n",
    "    for i in range(total_iterator):\n",
    "        batch_x_train, batch_y_train = mnist.train.next_batch(batch_size)\n",
    "        c_val, _ = session.run([cost, train],\n",
    "                               feed_dict={X: batch_x_train, Y: batch_y_train})\n",
    "        avg_cost += c_val / batch_size\n",
    "    print(\"Epoch:\", \"%04d\" % (epoch + 1), \", Cost:\", \"{:.5f}\".format(avg_cost))\n",
    "    \n",
    "\n",
    "print(\"Accuracy:\", session.run(accuracy,\n",
    "                               feed_dict={X: mnist.test.images, Y: mnist.test.labels}))"
   ]
  },
  {
   "cell_type": "code",
   "execution_count": null,
   "metadata": {},
   "outputs": [],
   "source": [
    "# Get one and predict\n",
    "r = random.randint(0, mnist.test.num_examples - 1)\n",
    "print(r)\n",
    "print(\"Label: \", session.run(tf.argmax(mnist.test.labels[r:r + 1], 1)))\n",
    "\n",
    "sample_image = mnist.test.images[r: r+1]\n",
    "print(\"Prediction: \", session.run(tf.argmax(hypothesis, 1),\n",
    "                                  feed_dict={X: sample_image}))\n",
    "\n",
    "plt.imshow(\n",
    "    sample_image.reshape(28, 28),\n",
    "    cmap='Greens',\n",
    "    interpolation='nearest')\n",
    "plt.show()"
   ]
  },
  {
   "cell_type": "code",
   "execution_count": null,
   "metadata": {},
   "outputs": [],
   "source": []
  },
  {
   "cell_type": "code",
   "execution_count": null,
   "metadata": {},
   "outputs": [],
   "source": []
  }
 ],
 "metadata": {
  "kernelspec": {
   "display_name": "Python 3",
   "language": "python",
   "name": "python3"
  },
  "language_info": {
   "codemirror_mode": {
    "name": "ipython",
    "version": 3
   },
   "file_extension": ".py",
   "mimetype": "text/x-python",
   "name": "python",
   "nbconvert_exporter": "python",
   "pygments_lexer": "ipython3",
   "version": "3.6.4"
  }
 },
 "nbformat": 4,
 "nbformat_minor": 2
}
