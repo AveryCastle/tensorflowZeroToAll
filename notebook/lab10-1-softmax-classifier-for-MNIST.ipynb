{
 "cells": [
  {
   "cell_type": "code",
   "execution_count": 1,
   "metadata": {},
   "outputs": [],
   "source": [
    "import tensorflow as tf\n",
    "import matplotlib.pyplot as plt\n",
    "import random"
   ]
  },
  {
   "cell_type": "code",
   "execution_count": 2,
   "metadata": {},
   "outputs": [],
   "source": [
    "#import train set\n",
    "from tensorflow.examples.tutorials.mnist import input_data"
   ]
  },
  {
   "cell_type": "code",
   "execution_count": 4,
   "metadata": {},
   "outputs": [
    {
     "name": "stdout",
     "output_type": "stream",
     "text": [
      "Extracting ../MNIST_data/train-images-idx3-ubyte.gz\n",
      "Extracting ../MNIST_data/train-labels-idx1-ubyte.gz\n",
      "Extracting ../MNIST_data/t10k-images-idx3-ubyte.gz\n",
      "Extracting ../MNIST_data/t10k-labels-idx1-ubyte.gz\n",
      "55000\n"
     ]
    }
   ],
   "source": [
    "# To solve downloading files.\n",
    "## https://github.com/tensorflow/tensorflow/issues/10779\n",
    "## run the /Applications/Python 3.6/Install Certificates.command bash script to install newer certs.\n",
    "mnist = input_data.read_data_sets(\"../MNIST_data/\", one_hot=True)\n",
    "print(mnist.train.num_examples)"
   ]
  },
  {
   "cell_type": "code",
   "execution_count": 5,
   "metadata": {},
   "outputs": [],
   "source": [
    "# 0 ~ 9까지의 숫자 갯수\n",
    "nb_classes = 10"
   ]
  },
  {
   "cell_type": "code",
   "execution_count": 6,
   "metadata": {},
   "outputs": [],
   "source": [
    "# MNIST Data image of shape = 28 * 28 = 784\n",
    "X = tf.placeholder(tf.float32, shape=[None, 784])\n",
    "Y = tf.placeholder(tf.float32, shape=[None, nb_classes]) # one-hot으로 주어짐."
   ]
  },
  {
   "cell_type": "code",
   "execution_count": 7,
   "metadata": {},
   "outputs": [],
   "source": [
    "W = tf.Variable(tf.random_normal([784, nb_classes]), name='weight')\n",
    "b = tf.Variable(tf.random_normal([nb_classes]), name='bias')"
   ]
  },
  {
   "cell_type": "code",
   "execution_count": 8,
   "metadata": {},
   "outputs": [],
   "source": [
    "# hypothesis\n",
    "hypothesis = tf.matmul(X, W) + b"
   ]
  },
  {
   "cell_type": "code",
   "execution_count": 10,
   "metadata": {},
   "outputs": [],
   "source": [
    "# Cost\n",
    "cost = tf.reduce_mean(tf.nn.softmax_cross_entropy_with_logits_v2(logits=hypothesis, labels=Y))"
   ]
  },
  {
   "cell_type": "code",
   "execution_count": 17,
   "metadata": {},
   "outputs": [],
   "source": [
    "# Minimize Cost\n",
    "optimizer = tf.train.AdamOptimizer(learning_rate = 0.01)\n",
    "train = optimizer.minimize(cost)"
   ]
  },
  {
   "cell_type": "code",
   "execution_count": 18,
   "metadata": {},
   "outputs": [],
   "source": [
    "# Correct prediction Test model\n",
    "prediction = tf.argmax(hypothesis, 1)\n",
    "real = tf.argmax(Y, 1)\n",
    "accuracy = tf.reduce_mean(tf.cast(tf.equal(prediction, real), dtype=tf.float32))"
   ]
  },
  {
   "cell_type": "code",
   "execution_count": 19,
   "metadata": {},
   "outputs": [],
   "source": [
    "# Prepare session\n",
    "session = tf.Session()\n",
    "session.run(tf.global_variables_initializer())"
   ]
  },
  {
   "cell_type": "code",
   "execution_count": 20,
   "metadata": {},
   "outputs": [
    {
     "name": "stdout",
     "output_type": "stream",
     "text": [
      "55000\n",
      "550\n"
     ]
    }
   ],
   "source": [
    "# Slice the data, epochs, batch_size\n",
    "training_epochs = 15\n",
    "batch_size = 100\n",
    "total_iterator = int(mnist.train.num_examples / batch_size)\n",
    "print(mnist.train.num_examples)\n",
    "print(total_iterator)"
   ]
  },
  {
   "cell_type": "code",
   "execution_count": 21,
   "metadata": {},
   "outputs": [
    {
     "name": "stdout",
     "output_type": "stream",
     "text": [
      "Epoch: 0001 , Cost: 7.23157\n",
      "Epoch: 0002 , Cost: 2.76504\n",
      "Epoch: 0003 , Cost: 2.29031\n",
      "Epoch: 0004 , Cost: 2.06248\n",
      "Epoch: 0005 , Cost: 1.91016\n",
      "Epoch: 0006 , Cost: 1.84359\n",
      "Epoch: 0007 , Cost: 1.77100\n",
      "Epoch: 0008 , Cost: 1.69986\n",
      "Epoch: 0009 , Cost: 1.66387\n",
      "Epoch: 0010 , Cost: 1.62996\n",
      "Epoch: 0011 , Cost: 1.60033\n",
      "Epoch: 0012 , Cost: 1.57960\n",
      "Epoch: 0013 , Cost: 1.55810\n",
      "Epoch: 0014 , Cost: 1.53309\n",
      "Epoch: 0015 , Cost: 1.53425\n",
      "Learning Finished!\n",
      "Accuracy: 0.9186\n"
     ]
    }
   ],
   "source": [
    "# Fit the train\n",
    "for epoch in range(training_epochs):\n",
    "    avg_cost = 0\n",
    "    total_iterator = int(mnist.train.num_examples / batch_size)\n",
    "    \n",
    "    for i in range(total_iterator):\n",
    "        batch_x_train, batch_y_train = mnist.train.next_batch(batch_size)\n",
    "        feed_dict = {X: batch_x_train, Y: batch_y_train}\n",
    "        c_val, _ = session.run([cost, train], feed_dict=feed_dict)\n",
    "        avg_cost += c_val / batch_size\n",
    "        \n",
    "    print(\"Epoch:\", \"%04d\" % (epoch + 1), \", Cost:\", \"{:.5f}\".format(avg_cost))\n",
    "\n",
    "print('Learning Finished!')    \n",
    "\n",
    "print(\"Accuracy:\", session.run(accuracy,\n",
    "                               feed_dict={X: mnist.test.images, Y: mnist.test.labels}))"
   ]
  },
  {
   "cell_type": "code",
   "execution_count": 23,
   "metadata": {},
   "outputs": [
    {
     "name": "stdout",
     "output_type": "stream",
     "text": [
      "1221\n",
      "Label:  [5]\n",
      "Prediction:  [5]\n"
     ]
    },
    {
     "data": {
      "image/png": "[encoded data removed]",
      "text/plain": [
       "<matplotlib.figure.Figure at 0x12b9e14a8>"
      ]
     },
     "metadata": {},
     "output_type": "display_data"
    }
   ],
   "source": [
    "# Get one and predict\n",
    "r = random.randint(0, mnist.test.num_examples - 1)\n",
    "print(r)\n",
    "print(\"Label: \", session.run(tf.argmax(mnist.test.labels[r:r + 1], 1)))\n",
    "\n",
    "sample_image = mnist.test.images[r: r+1]\n",
    "print(\"Prediction: \", session.run(tf.argmax(hypothesis, 1),\n",
    "                                  feed_dict={X: sample_image}))\n",
    "\n",
    "plt.imshow(\n",
    "    sample_image.reshape(28, 28),\n",
    "    cmap='Greens',\n",
    "    interpolation='nearest')\n",
    "plt.show()"
   ]
  },
  {
   "cell_type": "code",
   "execution_count": null,
   "metadata": {},
   "outputs": [],
   "source": []
  },
  {
   "cell_type": "code",
   "execution_count": null,
   "metadata": {},
   "outputs": [],
   "source": []
  }
 ],
 "metadata": {
  "kernelspec": {
   "display_name": "Python 3",
   "language": "python",
   "name": "python3"
  },
  "language_info": {
   "codemirror_mode": {
    "name": "ipython",
    "version": 3
   },
   "file_extension": ".py",
   "mimetype": "text/x-python",
   "name": "python",
   "nbconvert_exporter": "python",
   "pygments_lexer": "ipython3",
   "version": "3.6.4"
  }
 },
 "nbformat": 4,
 "nbformat_minor": 2
}
