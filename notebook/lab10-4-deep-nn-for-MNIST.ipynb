{
 "cells": [
  {
   "cell_type": "code",
   "execution_count": 1,
   "metadata": {},
   "outputs": [
    {
     "name": "stderr",
     "output_type": "stream",
     "text": [
      "/Users/seongjuhyeon/workspace/tensorflowZeroToAll/venv/lib/python3.6/importlib/_bootstrap.py:219: RuntimeWarning: compiletime version 3.5 of module 'tensorflow.python.framework.fast_tensor_util' does not match runtime version 3.6\n",
      "  return f(*args, **kwds)\n"
     ]
    }
   ],
   "source": [
    "import tensorflow as tf"
   ]
  },
  {
   "cell_type": "code",
   "execution_count": 2,
   "metadata": {},
   "outputs": [],
   "source": [
    "from tensorflow.examples.tutorials.mnist import input_data"
   ]
  },
  {
   "cell_type": "code",
   "execution_count": 3,
   "metadata": {},
   "outputs": [
    {
     "name": "stdout",
     "output_type": "stream",
     "text": [
      "Extracting ../MNIST_data/train-images-idx3-ubyte.gz\n",
      "Extracting ../MNIST_data/train-labels-idx1-ubyte.gz\n",
      "Extracting ../MNIST_data/t10k-images-idx3-ubyte.gz\n",
      "Extracting ../MNIST_data/t10k-labels-idx1-ubyte.gz\n",
      "55000\n"
     ]
    }
   ],
   "source": [
    "# To solve downloading files.\n",
    "## https://github.com/tensorflow/tensorflow/issues/10779\n",
    "## run the /Applications/Python 3.6/Install Certificates.command bash script to install newer certs.\n",
    "mnist = input_data.read_data_sets(\"../MNIST_data/\", one_hot=True)\n",
    "print(mnist.train.num_examples)"
   ]
  },
  {
   "cell_type": "code",
   "execution_count": 4,
   "metadata": {},
   "outputs": [],
   "source": [
    "# 0 ~ 9까지의 숫자 갯수\n",
    "nb_classes = 10"
   ]
  },
  {
   "cell_type": "code",
   "execution_count": 5,
   "metadata": {},
   "outputs": [],
   "source": [
    "# MNIST Data image of shape = 28 * 28 = 784\n",
    "X = tf.placeholder(tf.float32, shape=[None, 784])\n",
    "Y = tf.placeholder(tf.float32, shape=[None, nb_classes]) # one-hot으로 주어짐."
   ]
  },
  {
   "cell_type": "markdown",
   "metadata": {},
   "source": [
    "### lab10-3-xavier-for-MNIST에서 shape를 392 -> 650, depth를 4 -> 7로만 증가시켜봄.\n",
    "학습결과 accuracy가 더 잘 나오는지 확인해보기"
   ]
  },
  {
   "cell_type": "code",
   "execution_count": 6,
   "metadata": {},
   "outputs": [],
   "source": [
    "W1 = tf.get_variable(\"W1\", shape=[784, 600],\n",
    "                     initializer=tf.contrib.layers.xavier_initializer())\n",
    "b1 = tf.get_variable(name=\"b1\",\n",
    "                     shape=[600])\n",
    "L1 = tf.nn.relu(tf.matmul(X, W1) + b1)"
   ]
  },
  {
   "cell_type": "code",
   "execution_count": 7,
   "metadata": {},
   "outputs": [],
   "source": [
    "W2 = tf.get_variable(\"W2\", shape=[600, 600],\n",
    "                     initializer=tf.contrib.layers.xavier_initializer())\n",
    "b2 = tf.get_variable(name=\"b2\",\n",
    "                     shape=[600])\n",
    "L2 = tf.nn.relu(tf.matmul(L1, W2) + b2)"
   ]
  },
  {
   "cell_type": "code",
   "execution_count": 8,
   "metadata": {},
   "outputs": [],
   "source": [
    "W3 = tf.get_variable(\"W3\", shape=[600, 600],\n",
    "                     initializer=tf.contrib.layers.xavier_initializer())\n",
    "b3 = tf.get_variable(name=\"b3\",\n",
    "                     shape=[600])\n",
    "L3 = tf.nn.relu(tf.matmul(L2, W3) + b3)"
   ]
  },
  {
   "cell_type": "code",
   "execution_count": 9,
   "metadata": {},
   "outputs": [],
   "source": [
    "W4 = tf.get_variable(\"W4\", shape=[600, 600],\n",
    "                     initializer=tf.contrib.layers.xavier_initializer())\n",
    "b4 = tf.get_variable(name=\"b4\",\n",
    "                     shape=[600])\n",
    "L4 = tf.nn.relu(tf.matmul(L3, W4) + b4)"
   ]
  },
  {
   "cell_type": "code",
   "execution_count": 10,
   "metadata": {},
   "outputs": [],
   "source": [
    "W5 = tf.get_variable(\"W5\", shape=[600, 600],\n",
    "                     initializer=tf.contrib.layers.xavier_initializer())\n",
    "b5 = tf.get_variable(name=\"b5\",\n",
    "                     shape=[600])\n",
    "L5 = tf.nn.relu(tf.matmul(L4, W5) + b5)"
   ]
  },
  {
   "cell_type": "code",
   "execution_count": 11,
   "metadata": {},
   "outputs": [],
   "source": [
    "W6 = tf.get_variable(\"W6\", shape=[600, 600],\n",
    "                     initializer=tf.contrib.layers.xavier_initializer())\n",
    "b6 = tf.get_variable(name=\"b6\",\n",
    "                     shape=[600])\n",
    "L6 = tf.nn.relu(tf.matmul(L5, W6) + b6)"
   ]
  },
  {
   "cell_type": "code",
   "execution_count": 12,
   "metadata": {},
   "outputs": [],
   "source": [
    "W7 = tf.get_variable(\"W7\", shape=[600, nb_classes],\n",
    "                     initializer=tf.contrib.layers.xavier_initializer())\n",
    "b7 = tf.get_variable(name=\"b7\",\n",
    "                     shape=[nb_classes])\n",
    "hypothesis = tf.matmul(L6, W7) + b7"
   ]
  },
  {
   "cell_type": "code",
   "execution_count": 13,
   "metadata": {},
   "outputs": [],
   "source": [
    "cost = tf.reduce_mean(tf.nn.softmax_cross_entropy_with_logits_v2(logits=hypothesis, labels=Y))"
   ]
  },
  {
   "cell_type": "code",
   "execution_count": 14,
   "metadata": {},
   "outputs": [],
   "source": [
    "# Minimize cost\n",
    "optimizer = tf.train.AdamOptimizer(learning_rate=0.01)\n",
    "train = optimizer.minimize(cost)"
   ]
  },
  {
   "cell_type": "code",
   "execution_count": 15,
   "metadata": {},
   "outputs": [],
   "source": [
    "# Correct Prediction\n",
    "prediction = tf.argmax(hypothesis, 1)\n",
    "real = tf.argmax(Y, 1)\n",
    "accuracy = tf.reduce_mean(tf.cast(tf.equal(prediction, real), dtype=tf.float32))"
   ]
  },
  {
   "cell_type": "code",
   "execution_count": 16,
   "metadata": {},
   "outputs": [],
   "source": [
    "# Prepare session\n",
    "session = tf.Session()\n",
    "session.run(tf.global_variables_initializer())"
   ]
  },
  {
   "cell_type": "code",
   "execution_count": 17,
   "metadata": {},
   "outputs": [
    {
     "name": "stdout",
     "output_type": "stream",
     "text": [
      "55000\n",
      "550\n"
     ]
    }
   ],
   "source": [
    "# Slice the data, epochs, batch_size\n",
    "training_epochs = 15\n",
    "batch_size = 100\n",
    "total_iterator = int(mnist.train.num_examples / batch_size)\n",
    "\n",
    "print(mnist.train.num_examples)\n",
    "print(total_iterator)"
   ]
  },
  {
   "cell_type": "code",
   "execution_count": 18,
   "metadata": {},
   "outputs": [
    {
     "name": "stdout",
     "output_type": "stream",
     "text": [
      "Epoch: 0001 , Cost: 0.00278\n",
      "Epoch: 0002 , Cost: 0.00373\n",
      "Epoch: 0003 , Cost: 0.00221\n",
      "Epoch: 0004 , Cost: 0.00202\n",
      "Epoch: 0005 , Cost: 0.00198\n",
      "Epoch: 0006 , Cost: 0.00050\n",
      "Epoch: 0007 , Cost: 0.00138\n",
      "Epoch: 0008 , Cost: 0.00182\n",
      "Epoch: 0009 , Cost: 0.00108\n",
      "Epoch: 0010 , Cost: 0.00349\n",
      "Epoch: 0011 , Cost: 0.00231\n",
      "Epoch: 0012 , Cost: 0.00190\n",
      "Epoch: 0013 , Cost: 0.00180\n",
      "Epoch: 0014 , Cost: 0.00222\n",
      "Epoch: 0015 , Cost: 0.00154\n",
      "Learning Finished!\n",
      "Accuracy: 0.946\n"
     ]
    }
   ],
   "source": [
    "# Fit the train\n",
    "for epoch in range(training_epochs):\n",
    "    avg_cost = 0\n",
    "    total_iterator = total_iterator\n",
    "    \n",
    "    for i in range(total_iterator):\n",
    "        batch_xs, batch_ys = mnist.train.next_batch(batch_size)\n",
    "        feed_dict = {X: batch_xs, Y: batch_ys}\n",
    "        c_val, _ = session.run([cost, train], feed_dict=feed_dict)\n",
    "        avg_cost = c_val / batch_size\n",
    "    \n",
    "    print(\"Epoch:\", \"%04d\" % (epoch+1), \", Cost:\", \"{:.5f}\".format(avg_cost))\n",
    "\n",
    "print('Learning Finished!')\n",
    "\n",
    "print(\"Accuracy:\", session.run(accuracy,\n",
    "                               feed_dict={X: mnist.test.images, Y: mnist.test.labels}))"
   ]
  },
  {
   "cell_type": "markdown",
   "metadata": {},
   "source": [
    "### 결과가 deep & wide nn으로 했는데, 오히려 10-3보다 결과(0.9718 -> 0.946)가 안 좋고, Cost가 작아지다가 커지기도 함.\n",
    "이유는 아마도 over fitting이 됬을 가능성이 있음. 너무 해당 테스트 데이터에 최적화되었을 가능성이 있음.\n",
    "이를 해결해야 함.\n",
    "방법은 dropout 이 있음."
   ]
  },
  {
   "cell_type": "code",
   "execution_count": null,
   "metadata": {},
   "outputs": [],
   "source": []
  }
 ],
 "metadata": {
  "kernelspec": {
   "display_name": "Python 3",
   "language": "python",
   "name": "python3"
  },
  "language_info": {
   "codemirror_mode": {
    "name": "ipython",
    "version": 3
   },
   "file_extension": ".py",
   "mimetype": "text/x-python",
   "name": "python",
   "nbconvert_exporter": "python",
   "pygments_lexer": "ipython3",
   "version": "3.6.4"
  }
 },
 "nbformat": 4,
 "nbformat_minor": 2
}
