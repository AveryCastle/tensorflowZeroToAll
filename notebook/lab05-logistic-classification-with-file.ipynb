{
 "cells": [
  {
   "cell_type": "code",
   "execution_count": 5,
   "metadata": {},
   "outputs": [],
   "source": [
    "import tensorflow as tf\n",
    "import numpy as np"
   ]
  },
  {
   "cell_type": "code",
   "execution_count": 6,
   "metadata": {},
   "outputs": [],
   "source": [
    "# import data\n",
    "data = np.loadtxt('../datas/data-05-diabetes.csv', delimiter=',', dtype=np.float32)"
   ]
  },
  {
   "cell_type": "code",
   "execution_count": 14,
   "metadata": {},
   "outputs": [
    {
     "name": "stdout",
     "output_type": "stream",
     "text": [
      "(759, 8)\n",
      "(759, 1)\n"
     ]
    }
   ],
   "source": [
    "x_train = data[:, 0:-1]\n",
    "y_train = data[:, [-1]]\n",
    "\n",
    "print(x_train.shape)\n",
    "print(y_train.shape)"
   ]
  },
  {
   "cell_type": "code",
   "execution_count": 15,
   "metadata": {},
   "outputs": [],
   "source": [
    "# placeholder\n",
    "X = tf.placeholder(tf.float32, shape = [None, 8])\n",
    "Y = tf.placeholder(tf.float32, shape = [None, 1])"
   ]
  },
  {
   "cell_type": "code",
   "execution_count": 16,
   "metadata": {},
   "outputs": [],
   "source": [
    "# Variables\n",
    "W = tf.Variable(tf.random_normal([8, 1]), name = 'weight')\n",
    "b = tf.Variable(tf.random_normal([1]), name = 'bias')"
   ]
  },
  {
   "cell_type": "code",
   "execution_count": 17,
   "metadata": {},
   "outputs": [],
   "source": [
    "# Hypothesis using sigmoid: tf.div(1., 1 + tf.exp(tf.matmul(X, W) + b))\n",
    "hypothesis = tf.sigmoid(tf.matmul(X, W) + b)"
   ]
  },
  {
   "cell_type": "code",
   "execution_count": 18,
   "metadata": {},
   "outputs": [],
   "source": [
    "# cost/loss function\n",
    "cost = -tf.reduce_mean(Y * tf.log(hypothesis) + (1 - Y) * tf.log(1 - hypothesis))"
   ]
  },
  {
   "cell_type": "code",
   "execution_count": 19,
   "metadata": {},
   "outputs": [],
   "source": [
    "# minimize cost\n",
    "optimizer = tf.train.GradientDescentOptimizer(learning_rate = 0.01)\n",
    "train = optimizer.minimize(cost)"
   ]
  },
  {
   "cell_type": "code",
   "execution_count": 20,
   "metadata": {},
   "outputs": [],
   "source": [
    "# Accuraty computation\n",
    "# True if hypothesis > 0.5 else False\n",
    "# hypothesis > 0.5: True, False => tf.cast() -> 0 ~ 1사이 값이로 casting함.\n",
    "predicted = tf.cast(hypothesis > 0.5, dtype = tf.float32)\n",
    "accuracy = tf.reduce_mean(tf.cast(tf.equal(predicted, Y), dtype = tf.float32))"
   ]
  },
  {
   "cell_type": "code",
   "execution_count": 22,
   "metadata": {},
   "outputs": [],
   "source": [
    "# session\n",
    "session = tf.Session()\n",
    "session.run(tf.global_variables_initializer())"
   ]
  },
  {
   "cell_type": "code",
   "execution_count": 24,
   "metadata": {},
   "outputs": [
    {
     "name": "stdout",
     "output_type": "stream",
     "text": [
      "0 0.47766954\n",
      "200 0.47741258\n",
      "400 0.47716823\n",
      "600 0.4769357\n",
      "800 0.47671455\n",
      "1000 0.4765041\n",
      "1200 0.47630364\n",
      "1400 0.47611257\n",
      "1600 0.4759306\n",
      "1800 0.4757571\n",
      "2000 0.4755916\n",
      "2200 0.47543383\n",
      "2400 0.4752832\n",
      "2600 0.47513944\n",
      "2800 0.47500232\n",
      "3000 0.47487134\n",
      "3200 0.47474596\n",
      "3400 0.4746264\n",
      "3600 0.47451186\n",
      "3800 0.47440264\n",
      "4000 0.47429797\n",
      "4200 0.47419804\n",
      "4400 0.4741024\n",
      "4600 0.47401077\n",
      "4800 0.47392303\n",
      "5000 0.4738391\n",
      "5200 0.4737587\n",
      "5400 0.47368154\n",
      "5600 0.4736078\n",
      "5800 0.4735371\n",
      "6000 0.4734692\n",
      "6200 0.47340414\n",
      "6400 0.4733419\n",
      "6600 0.47328207\n",
      "6800 0.47322455\n",
      "7000 0.47316954\n",
      "7200 0.4731167\n",
      "7400 0.4730661\n",
      "7600 0.47301725\n",
      "7800 0.47297043\n",
      "8000 0.47292545\n",
      "8200 0.4728823\n",
      "8400 0.47284073\n",
      "8600 0.47280088\n",
      "8800 0.47276267\n",
      "9000 0.47272584\n",
      "9200 0.4726903\n",
      "9400 0.47265628\n",
      "9600 0.47262347\n",
      "9800 0.47259188\n",
      "10000 0.47256157\n"
     ]
    },
    {
     "ename": "NameError",
     "evalue": "name 'x_data' is not defined",
     "output_type": "error",
     "traceback": [
      "\u001b[0;31m---------------------------------------------------------------------------\u001b[0m",
      "\u001b[0;31mNameError\u001b[0m                                 Traceback (most recent call last)",
      "\u001b[0;32m<ipython-input-24-96610f8ceae3>\u001b[0m in \u001b[0;36m<module>\u001b[0;34m()\u001b[0m\n\u001b[1;32m      7\u001b[0m \u001b[0;34m\u001b[0m\u001b[0m\n\u001b[1;32m      8\u001b[0m h_val, p_val, a_val = session.run([hypothesis, predicted, accuracy],\n\u001b[0;32m----> 9\u001b[0;31m                                   feed_dict = {X: x_data, Y: y_data})\n\u001b[0m\u001b[1;32m     10\u001b[0m \u001b[0mprint\u001b[0m\u001b[0;34m(\u001b[0m\u001b[0;34m\"Hypothesis:\"\u001b[0m\u001b[0;34m,\u001b[0m \u001b[0mh_val\u001b[0m\u001b[0;34m,\u001b[0m \u001b[0;34m\"\\nPredicted:\"\u001b[0m\u001b[0;34m,\u001b[0m \u001b[0mp_val\u001b[0m\u001b[0;34m,\u001b[0m \u001b[0;34m\"\\nAccuracy:\"\u001b[0m\u001b[0;34m,\u001b[0m \u001b[0ma_val\u001b[0m\u001b[0;34m)\u001b[0m\u001b[0;34m\u001b[0m\u001b[0m\n",
      "\u001b[0;31mNameError\u001b[0m: name 'x_data' is not defined"
     ]
    }
   ],
   "source": [
    "# train the model\n",
    "for step in range(10001):\n",
    "    cost_val, hypothesis_val, _ = session.run([cost, hypothesis, train],\n",
    "                                              feed_dict = {X: x_train, Y: y_train})\n",
    "    if step % 200 == 0:\n",
    "        print(step, cost_val)\n",
    "\n",
    "h_val, p_val, a_val = session.run([hypothesis, predicted, accuracy],\n",
    "                                  feed_dict = {X: x_data, Y: y_data})\n",
    "print(\"Hypothesis:\", h_val, \"\\nPredicted:\", p_val, \"\\nAccuracy:\", a_val)"
   ]
  },
  {
   "cell_type": "code",
   "execution_count": null,
   "metadata": {},
   "outputs": [],
   "source": []
  }
 ],
 "metadata": {
  "kernelspec": {
   "display_name": "Python 3",
   "language": "python",
   "name": "python3"
  },
  "language_info": {
   "codemirror_mode": {
    "name": "ipython",
    "version": 3
   },
   "file_extension": ".py",
   "mimetype": "text/x-python",
   "name": "python",
   "nbconvert_exporter": "python",
   "pygments_lexer": "ipython3",
   "version": "3.6.4"
  }
 },
 "nbformat": 4,
 "nbformat_minor": 2
}
