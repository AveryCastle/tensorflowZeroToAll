{
 "cells": [
  {
   "cell_type": "code",
   "execution_count": 214,
   "metadata": {},
   "outputs": [],
   "source": [
    "import tensorflow as tf\n",
    "\n",
    "# for reproducibility\n",
    "tf.set_random_seed(777) "
   ]
  },
  {
   "cell_type": "code",
   "execution_count": 215,
   "metadata": {},
   "outputs": [],
   "source": [
    "x_train = [[1, 2, 1],\n",
    "          [1, 3, 2],\n",
    "          [1, 3, 4],\n",
    "          [1, 5, 5],\n",
    "          [1, 7, 5],\n",
    "          [1, 2, 5],\n",
    "          [1, 6, 6],\n",
    "          [1, 7, 7]]\n",
    "y_train = [[0, 0, 1],\n",
    "          [0, 0, 1],\n",
    "          [0, 0, 1],\n",
    "          [0, 1, 0],\n",
    "          [0, 1, 0],\n",
    "          [0, 1, 0],\n",
    "          [1, 0, 0],\n",
    "          [1, 0, 0]]"
   ]
  },
  {
   "cell_type": "code",
   "execution_count": 216,
   "metadata": {},
   "outputs": [],
   "source": [
    "# Placeholder\n",
    "X = tf.placeholder(\"float\", shape=[None, 3])\n",
    "Y = tf.placeholder(\"float\", shape=[None, 3])"
   ]
  },
  {
   "cell_type": "code",
   "execution_count": 217,
   "metadata": {},
   "outputs": [],
   "source": [
    "# Variables\n",
    "W = tf.Variable(tf.random_normal([3, 3]), name='weight')\n",
    "b = tf.Variable(tf.random_normal([3]), name='bias')"
   ]
  },
  {
   "cell_type": "code",
   "execution_count": 218,
   "metadata": {},
   "outputs": [],
   "source": [
    "# Hypothesis\n",
    "# tf.nn.softmax computes softmax activations\n",
    "# softmax = exp(logits) / reduce_sum(exp(logits), dim)\n",
    "logits = tf.matmul(X, W) + b\n",
    "hypothesis = tf.nn.softmax(logits)"
   ]
  },
  {
   "cell_type": "code",
   "execution_count": 276,
   "metadata": {},
   "outputs": [],
   "source": [
    "# Cross entropy cost/loss\n",
    "cost = tf.reduce_mean(-tf.reduce_sum(Y * tf.log(hypothesis), axis=1))"
   ]
  },
  {
   "cell_type": "code",
   "execution_count": 277,
   "metadata": {},
   "outputs": [],
   "source": [
    "# Minimize\n",
    "# Try to change learning_rate to small numbers\n",
    "optimizer = tf.train.GradientDescentOptimizer(learning_rate=0.1055)\n",
    "train = optimizer.minimize(cost)"
   ]
  },
  {
   "cell_type": "code",
   "execution_count": 278,
   "metadata": {},
   "outputs": [],
   "source": [
    "# Correct prediction Test model\n",
    "prediction = tf.argmax(hypothesis, 1)\n",
    "is_correct = tf.equal(prediction, tf.argmax(Y, 1))\n",
    "accuracy = tf.reduce_mean(tf.cast(is_correct, tf.float32))"
   ]
  },
  {
   "cell_type": "code",
   "execution_count": 279,
   "metadata": {},
   "outputs": [],
   "source": [
    "# Prepare Session\n",
    "session = tf.Session()\n",
    "\n",
    "# Initialize TensorFlow variables\n",
    "session.run(tf.global_variables_initializer())"
   ]
  },
  {
   "cell_type": "code",
   "execution_count": 280,
   "metadata": {},
   "outputs": [],
   "source": [
    "# Evaluation our model using this test dataset\n",
    "x_test = [[2, 1, 1],\n",
    "          [3, 1, 2],\n",
    "          [3, 3, 4]]\n",
    "y_test = [[0, 0, 1],\n",
    "          [0, 0, 1],\n",
    "          [0, 0, 1]]"
   ]
  },
  {
   "cell_type": "code",
   "execution_count": 281,
   "metadata": {},
   "outputs": [
    {
     "name": "stdout",
     "output_type": "stream",
     "text": [
      "0 2.8514025 [[ 0.54849875  0.2774999   0.61170375]\n",
      " [ 0.2987189   0.9435638  -0.33494022]\n",
      " [-0.6164946  -1.2089976  -0.3119737 ]]\n",
      "20 0.9995849 [[ 0.32284614  0.25428337  0.86057264]\n",
      " [ 0.33336517  0.58708847 -0.01311107]\n",
      " [-0.62107444 -0.8617519  -0.65463936]]\n",
      "40 0.8402449 [[ 0.1337651   0.2421773   1.0617596 ]\n",
      " [ 0.38110104  0.38669676  0.13954483]\n",
      " [-0.59962827 -0.6480586  -0.88977903]]\n",
      "60 0.7649796 [[-0.02438189  0.23063634  1.2314475 ]\n",
      " [ 0.4090403   0.2926211   0.20568135]\n",
      " [-0.56466305 -0.5442459  -1.028557  ]]\n",
      "80 0.7194795 [[-0.1607251   0.22058973  1.3778373 ]\n",
      " [ 0.42414886  0.2535111   0.22968277]\n",
      " [-0.5244123  -0.49677855 -1.1162747 ]]\n",
      "100 0.6864561 [[-0.28218573  0.21311793  1.5067698 ]\n",
      " [ 0.43339944  0.23951152  0.23443183]\n",
      " [-0.48390126 -0.47617337 -1.1773908 ]]\n",
      "120 0.6602715 [[-0.3929928   0.20844415  1.6222508 ]\n",
      " [ 0.4402845   0.236411    0.23064739]\n",
      " [-0.44467592 -0.46870545 -1.2240843 ]]\n",
      "140 0.63871515 [[-0.4957305   0.20634203  1.7270904 ]\n",
      " [ 0.44645     0.2374509   0.22344203]\n",
      " [-0.40677002 -0.46814144 -1.262554  ]]\n",
      "160 0.6209277 [[-0.59207255  0.20644571  1.8233287 ]\n",
      " [ 0.45269835  0.23933859  0.21530606]\n",
      " [-0.3697815  -0.4716424  -1.2960415 ]]\n",
      "180 0.60654056 [[-0.6832597   0.20848402  1.9124779 ]\n",
      " [ 0.45902982  0.24088722  0.207426  ]\n",
      " [-0.3336927  -0.4774522  -1.3263204 ]]\n",
      "200 0.5943596 [[-0.7703642   0.21240084  1.9956654 ]\n",
      " [ 0.46438375  0.24276285  0.20019649]\n",
      " [-0.29937467 -0.48357195 -1.3545183 ]]\n",
      "\n",
      "Prediction =  [2 2 2]\n",
      "\n",
      "Accuracy =  1.0\n"
     ]
    }
   ],
   "source": [
    "for step in range(201):\n",
    "    cost_val, W_val, _ = session.run([cost, W, train],\n",
    "                                     feed_dict={X: x_train, Y: y_train})\n",
    "    if step % 20 == 0:\n",
    "        print(step, cost_val, W_val)\n",
    "        \n",
    "print(\"\\nPrediction = \", session.run(prediction, feed_dict={X: x_test}))\n",
    "print(\"\\nAccuracy = \", session.run(accuracy, feed_dict={X: x_test, Y: y_test}))"
   ]
  },
  {
   "cell_type": "code",
   "execution_count": null,
   "metadata": {},
   "outputs": [],
   "source": [
    "\n",
    "0.08 => 0.59063303\n",
    "0.09 => 0.5778148\n",
    "0.1  => 0.56607723\n",
    "0.101=> 0.56495595\n",
    "0.102=> 0.56384355\n",
    "0.105=> 0.56200933\n",
    "0.11 => 0.59834707\n",
    "0.2  => 1.2767676"
   ]
  }
 ],
 "metadata": {
  "kernelspec": {
   "display_name": "Python 3",
   "language": "python",
   "name": "python3"
  },
  "language_info": {
   "codemirror_mode": {
    "name": "ipython",
    "version": 3
   },
   "file_extension": ".py",
   "mimetype": "text/x-python",
   "name": "python",
   "nbconvert_exporter": "python",
   "pygments_lexer": "ipython3",
   "version": "3.6.4"
  }
 },
 "nbformat": 4,
 "nbformat_minor": 2
}
