{
 "cells": [
  {
   "cell_type": "markdown",
   "metadata": {},
   "source": [
    "# Linear Regression"
   ]
  },
  {
   "cell_type": "code",
   "execution_count": 27,
   "metadata": {},
   "outputs": [],
   "source": [
    "import tensorflow as tf\n",
    "tf.set_random_seed(777)  # for reprducibilty"
   ]
  },
  {
   "cell_type": "markdown",
   "metadata": {},
   "source": [
    "## X and Y data"
   ]
  },
  {
   "cell_type": "code",
   "execution_count": 16,
   "metadata": {},
   "outputs": [],
   "source": [
    "x_train = [1, 2, 3]\n",
    "y_train = [1, 2, 3]"
   ]
  },
  {
   "cell_type": "markdown",
   "metadata": {},
   "source": [
    "## Variables"
   ]
  },
  {
   "cell_type": "code",
   "execution_count": 36,
   "metadata": {},
   "outputs": [],
   "source": [
    "# Try to find value for W and b to compute y_data = x_data * W + b  \n",
    "# We know that W should be 1 and b should be 0\n",
    "# But let's TensorFlow figure it out \n",
    "W = tf.Variable(tf.random_normal([1, 1]), name='weight')\n",
    "b = tf.Variable(tf.random_normal([1, 1]), name='bias')"
   ]
  },
  {
   "cell_type": "markdown",
   "metadata": {},
   "source": [
    "## Model(Hypothesis)"
   ]
  },
  {
   "cell_type": "code",
   "execution_count": 37,
   "metadata": {},
   "outputs": [],
   "source": [
    "# Out hypothesis XW+b\n",
    "hypothesis = x_train * W + b\n",
    "\n",
    "# cost/loss function\n",
    "cost = tf.reduce_mean(tf.square(hypothesis - y_train))"
   ]
  },
  {
   "cell_type": "markdown",
   "metadata": {},
   "source": [
    "## Minimize"
   ]
  },
  {
   "cell_type": "code",
   "execution_count": 38,
   "metadata": {},
   "outputs": [],
   "source": [
    "optimizer = tf.train.GradientDescentOptimizer(learning_rate=0.01)\n",
    "train = optimizer.minimize(cost)"
   ]
  },
  {
   "cell_type": "markdown",
   "metadata": {},
   "source": [
    "# Launch the graph in a session"
   ]
  },
  {
   "cell_type": "code",
   "execution_count": 39,
   "metadata": {},
   "outputs": [],
   "source": [
    "# Launch the graph in a session.\n",
    "sess = tf.Session()\n",
    "# Initializes global variables(W, b) in the graph.\n",
    "sess.run(tf.global_variables_initializer())"
   ]
  },
  {
   "cell_type": "code",
   "execution_count": 26,
   "metadata": {},
   "outputs": [
    {
     "name": "stdout",
     "output_type": "stream",
     "text": [
      "0 6.3399568 [-0.7991776] [1.5533785]\n",
      "50 0.4353206 [0.23112115] [1.7407455]\n",
      "100 0.34216616 [0.32061005] [1.5443933]\n",
      "150 0.26897368 [0.3976472] [1.3692894]\n",
      "200 0.21143778 [0.46594337] [1.2140362]\n",
      "250 0.16620941 [0.5264958] [1.0763862]\n",
      "300 0.13065574 [0.5801828] [0.95434314]\n",
      "350 0.102707356 [0.6277826] [0.8461377]\n",
      "400 0.08073727 [0.6699854] [0.7502007]\n",
      "450 0.06346687 [0.70740324] [0.66514117]\n",
      "500 0.049890775 [0.74057853] [0.58972603]\n",
      "550 0.039218727 [0.76999223] [0.5228618]\n",
      "600 0.030829482 [0.79607093] [0.46357864]\n",
      "650 0.024234807 [0.8191928] [0.41101718]\n",
      "700 0.019050734 [0.8396932] [0.3644151]\n",
      "750 0.014975618 [0.8578692] [0.3230968]\n",
      "800 0.011772193 [0.87398434] [0.2864634]\n",
      "850 0.009254005 [0.88827235] [0.2539835]\n",
      "900 0.007274495 [0.9009402] [0.22518626]\n",
      "950 0.0057184272 [0.9121718] [0.19965415]\n",
      "1000 0.004495198 [0.9221299] [0.17701697]\n",
      "1050 0.0035336318 [0.93095905] [0.15694639]\n",
      "1100 0.0027777608 [0.9387871] [0.13915154]\n",
      "1150 0.0021835712 [0.9457274] [0.12337418]\n",
      "1200 0.0017164905 [0.951881] [0.10938578]\n",
      "1250 0.0013493164 [0.95733684] [0.0969834]\n",
      "1300 0.0010606878 [0.9621741] [0.08598714]\n",
      "1350 0.0008337945 [0.96646285] [0.07623772]\n",
      "1400 0.00065543695 [0.97026545] [0.06759378]\n",
      "1450 0.000515234 [0.97363675] [0.05992987]\n",
      "1500 0.00040502174 [0.97662586] [0.0531349]\n",
      "1550 0.00031838552 [0.979276] [0.04711039]\n",
      "1600 0.00025028034 [0.9816258] [0.04176888]\n",
      "1650 0.00019674287 [0.9837091] [0.03703306]\n",
      "1700 0.0001546572 [0.9855562] [0.03283421]\n",
      "1750 0.0001215757 [0.9871939] [0.02911139]\n",
      "1800 9.5569645e-05 [0.9886458] [0.02581067]\n",
      "1850 7.51256e-05 [0.98993313] [0.02288431]\n",
      "1900 5.9056623e-05 [0.99107456] [0.02028962]\n",
      "1950 4.6423404e-05 [0.9920865] [0.01798913]\n",
      "2000 3.6494046e-05 [0.99298376] [0.0159495]\n"
     ]
    }
   ],
   "source": [
    "for step in range(2001):\n",
    "    sess.run(train)\n",
    "    if step % 50 == 0:\n",
    "        print(step, sess.run(cost), sess.run(W), sess.run(b))"
   ]
  },
  {
   "cell_type": "code",
   "execution_count": null,
   "metadata": {},
   "outputs": [],
   "source": []
  }
 ],
 "metadata": {
  "kernelspec": {
   "display_name": "Python 3",
   "language": "python",
   "name": "python3"
  },
  "language_info": {
   "codemirror_mode": {
    "name": "ipython",
    "version": 3
   },
   "file_extension": ".py",
   "mimetype": "text/x-python",
   "name": "python",
   "nbconvert_exporter": "python",
   "pygments_lexer": "ipython3",
   "version": "3.6.4"
  }
 },
 "nbformat": 4,
 "nbformat_minor": 2
}
